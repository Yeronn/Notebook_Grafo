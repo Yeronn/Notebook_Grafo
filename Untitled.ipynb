{
 "cells": [
  {
   "cell_type": "markdown",
   "metadata": {},
   "source": [
    "# **Modelamiento de Grafo de Rutas de Coleccionables del Juego Red Dead Redemption 2**"
   ]
  },
  {
   "cell_type": "markdown",
   "metadata": {},
   "source": [
    "## INTEGRANTES\n",
    "\t"
   ]
  },
  {
   "cell_type": "markdown",
   "metadata": {},
   "source": [
    "* Yefferson Olivos Rodriguez\n",
    "* David Morantes\n",
    "* Carlos Gutierres\n",
    "* Daniel Cañate"
   ]
  },
  {
   "cell_type": "markdown",
   "metadata": {},
   "source": [
    "## OBJETIVO\n",
    "\n",
    "Elaborar un grafo que indique la ruta más corta a seguir para la realización de las misiones de mundo del juego Red Redemption 2 y así obtener un logro por completar el juego."
   ]
  },
  {
   "cell_type": "markdown",
   "metadata": {},
   "source": [
    "## JUSTIFICACIÓN\n",
    "\n",
    "Rockstar es una compañía que se ha caracterizado por brindarnos grandes historias en mundos abiertos ricos en actividades, como por ejemplo las misiones coleccionables, que se encuentran repartidas por todo el mapa. Red Dead Redemption 2 no se queda corto, además completarlos todos los coleccionables es necesario para completar el juego al 100% y de esta forma conseguir un trofeo necesario para el platino y disfrutar al máximo la experiencia de juego."
   ]
  },
  {
   "cell_type": "markdown",
   "metadata": {},
   "source": [
    "## ARTÍCULOS DEL ESTADO DEL ARTE"
   ]
  },
  {
   "cell_type": "markdown",
   "metadata": {},
   "source": [
    "* 1.Modelamiento de distribución de productos cárnicos como un TSP (Traveling Salesman Problem) con teoría de grafos\n",
    "\n",
    "    https://uids-primo.hosted.exlibrisgroup.com/permalink/f/ssq24r/TN_cdi_dialnet_primary_oai_dialnet_unirioja_es_ART0000814481\n",
    "    \n",
    "\n",
    "* 2.Path-Value Functions for Which Dijkstra’s Algorithm Returns Optimal Mapping\n",
    "\n",
    "    https://uids-primo.hosted.exlibrisgroup.com/permalink/f/ssq24r/TN_cdi_proquest_journals_2075607654\n",
    "    \n",
    "\n",
    "* 3.Comparative Analysis between Dijkstra and Bellman-Ford Algorithms in Shortest Path Optimization\n",
    "\n",
    "    https://uids-primo.hosted.exlibrisgroup.com/permalink/f/ssq24r/TN_cdi_iop_journals_10_1088_1757_899X_917_1_012077"
   ]
  },
  {
   "cell_type": "markdown",
   "metadata": {},
   "source": [
    "## GRAFO"
   ]
  },
  {
   "cell_type": "markdown",
   "metadata": {},
   "source": [
    "### Mapa\n"
   ]
  },
  {
   "cell_type": "markdown",
   "metadata": {},
   "source": [
    "<img src=\"135b7c250a70629bc02362f7fb35390b.jpg\">"
   ]
  },
  {
   "cell_type": "markdown",
   "metadata": {},
   "source": [
    "### Mapa con grafo"
   ]
  },
  {
   "cell_type": "markdown",
   "metadata": {},
   "source": [
    "<img src=\"RDR2 grafo.png\">"
   ]
  },
  {
   "cell_type": "markdown",
   "metadata": {},
   "source": [
    "### Grafo"
   ]
  },
  {
   "cell_type": "markdown",
   "metadata": {},
   "source": [
    "<img src=\"grafo.png\">"
   ]
  },
  {
   "cell_type": "code",
   "execution_count": null,
   "metadata": {},
   "outputs": [],
   "source": []
  }
 ],
 "metadata": {
  "kernelspec": {
   "display_name": "Python 3",
   "language": "python",
   "name": "python3"
  },
  "language_info": {
   "codemirror_mode": {
    "name": "ipython",
    "version": 3
   },
   "file_extension": ".py",
   "mimetype": "text/x-python",
   "name": "python",
   "nbconvert_exporter": "python",
   "pygments_lexer": "ipython3",
   "version": "3.8.5"
  }
 },
 "nbformat": 4,
 "nbformat_minor": 4
}
